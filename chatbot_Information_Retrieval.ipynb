{
 "cells": [
  {
   "cell_type": "code",
   "execution_count": 1,
   "metadata": {},
   "outputs": [],
   "source": [
    "import re\n",
    "import numpy as np\n",
    "import pandas as pd\n",
    "from gensim.models import Word2Vec\n",
    "\n",
    "from underthesea import word_tokenize\n",
    "\n",
    "from nltk.translate.bleu_score import sentence_bleu\n",
    "from sklearn.metrics.pairwise import cosine_similarity, euclidean_distances\n",
    "\n",
    "import warnings\n",
    "warnings.filterwarnings(\"ignore\")"
   ]
  },
  {
   "cell_type": "markdown",
   "metadata": {},
   "source": [
    "# Tiền xử lý dữ liệu"
   ]
  },
  {
   "cell_type": "code",
   "execution_count": 2,
   "metadata": {},
   "outputs": [
    {
     "data": {
      "text/html": [
       "<div>\n",
       "<style scoped>\n",
       "    .dataframe tbody tr th:only-of-type {\n",
       "        vertical-align: middle;\n",
       "    }\n",
       "\n",
       "    .dataframe tbody tr th {\n",
       "        vertical-align: top;\n",
       "    }\n",
       "\n",
       "    .dataframe thead th {\n",
       "        text-align: right;\n",
       "    }\n",
       "</style>\n",
       "<table border=\"1\" class=\"dataframe\">\n",
       "  <thead>\n",
       "    <tr style=\"text-align: right;\">\n",
       "      <th></th>\n",
       "      <th>user_a</th>\n",
       "      <th>user_b</th>\n",
       "    </tr>\n",
       "  </thead>\n",
       "  <tbody>\n",
       "    <tr>\n",
       "      <th>0</th>\n",
       "      <td>Thích mẫu người nào</td>\n",
       "      <td>Dễ thương, tóc dài, da trắng</td>\n",
       "    </tr>\n",
       "    <tr>\n",
       "      <th>1</th>\n",
       "      <td>Có crush ai không</td>\n",
       "      <td>Có 1 bạn cùng lớp</td>\n",
       "    </tr>\n",
       "    <tr>\n",
       "      <th>2</th>\n",
       "      <td>Tại sao lại thích bạn dó</td>\n",
       "      <td>Vì đáp ứng những yêu cầu của tao</td>\n",
       "    </tr>\n",
       "    <tr>\n",
       "      <th>3</th>\n",
       "      <td>Có hay nói chuyện không</td>\n",
       "      <td>Hay nhắn tin messenger</td>\n",
       "    </tr>\n",
       "    <tr>\n",
       "      <th>4</th>\n",
       "      <td>Bạn kia có bắt chuyện trước không</td>\n",
       "      <td>Có đôi khi</td>\n",
       "    </tr>\n",
       "    <tr>\n",
       "      <th>...</th>\n",
       "      <td>...</td>\n",
       "      <td>...</td>\n",
       "    </tr>\n",
       "    <tr>\n",
       "      <th>7389</th>\n",
       "      <td>Uầy vậy anh em mình có nên đi thể dục thể thao...</td>\n",
       "      <td>Vậy mày định rủ tao đi tập gì.</td>\n",
       "    </tr>\n",
       "    <tr>\n",
       "      <th>7390</th>\n",
       "      <td>Tao thấy bộ môn đó khá được ưa chuộng và còn n...</td>\n",
       "      <td>Mày xem các dân tổ đua xe nhiều quá nên ảo rồi...</td>\n",
       "    </tr>\n",
       "    <tr>\n",
       "      <th>7391</th>\n",
       "      <td>Đùa tí thôi tao tính rủ mày đi học võ bro.</td>\n",
       "      <td>Được nè. Tao khá thích taekwondo nhe.</td>\n",
       "    </tr>\n",
       "    <tr>\n",
       "      <th>7392</th>\n",
       "      <td>Tao sẽ học lên đai đen để về sút vào mấy thằng...</td>\n",
       "      <td>Oke mày là nhất :))</td>\n",
       "    </tr>\n",
       "    <tr>\n",
       "      <th>7393</th>\n",
       "      <td>Tao biết chỗ rồi, bây giờ tao đăng kí cho mày ...</td>\n",
       "      <td>Oke luôn bạn ơi</td>\n",
       "    </tr>\n",
       "  </tbody>\n",
       "</table>\n",
       "<p>7394 rows × 2 columns</p>\n",
       "</div>"
      ],
      "text/plain": [
       "                                                 user_a  \\\n",
       "0                                   Thích mẫu người nào   \n",
       "1                                     Có crush ai không   \n",
       "2                              Tại sao lại thích bạn dó   \n",
       "3                               Có hay nói chuyện không   \n",
       "4                     Bạn kia có bắt chuyện trước không   \n",
       "...                                                 ...   \n",
       "7389  Uầy vậy anh em mình có nên đi thể dục thể thao...   \n",
       "7390  Tao thấy bộ môn đó khá được ưa chuộng và còn n...   \n",
       "7391         Đùa tí thôi tao tính rủ mày đi học võ bro.   \n",
       "7392  Tao sẽ học lên đai đen để về sút vào mấy thằng...   \n",
       "7393  Tao biết chỗ rồi, bây giờ tao đăng kí cho mày ...   \n",
       "\n",
       "                                                 user_b  \n",
       "0                          Dễ thương, tóc dài, da trắng  \n",
       "1                                     Có 1 bạn cùng lớp  \n",
       "2                      Vì đáp ứng những yêu cầu của tao  \n",
       "3                                Hay nhắn tin messenger  \n",
       "4                                            Có đôi khi  \n",
       "...                                                 ...  \n",
       "7389                     Vậy mày định rủ tao đi tập gì.  \n",
       "7390  Mày xem các dân tổ đua xe nhiều quá nên ảo rồi...  \n",
       "7391              Được nè. Tao khá thích taekwondo nhe.  \n",
       "7392                                Oke mày là nhất :))  \n",
       "7393                                    Oke luôn bạn ơi  \n",
       "\n",
       "[7394 rows x 2 columns]"
      ]
     },
     "execution_count": 2,
     "metadata": {},
     "output_type": "execute_result"
    }
   ],
   "source": [
    "# load data\n",
    "df = pd.read_csv('chatbot-data.csv', usecols=[1,2])\n",
    "df"
   ]
  },
  {
   "cell_type": "code",
   "execution_count": 3,
   "metadata": {},
   "outputs": [
    {
     "data": {
      "text/plain": [
       "(array(['Thích mẫu người nào', 'Có crush ai không'], dtype=object),\n",
       " array(['Dễ thương, tóc dài, da trắng', 'Có 1 bạn cùng lớp'], dtype=object))"
      ]
     },
     "execution_count": 3,
     "metadata": {},
     "output_type": "execute_result"
    }
   ],
   "source": [
    "# lấy ra Questions và Answers\n",
    "questions = df['user_a'].values\n",
    "answers = df['user_b'].values\n",
    "\n",
    "questions[:2], answers[:2]"
   ]
  },
  {
   "cell_type": "code",
   "execution_count": 4,
   "metadata": {},
   "outputs": [],
   "source": [
    "# hàm để xóa các ký tự đặc biệt\n",
    "def clean_text(sent):\n",
    "    return re.sub(r'[!“”\"#$%&\\'()*+,-./:;<=>?@[\\]^_`{|}~]', '', sent)\n",
    "\n",
    "# hàm để chuyển word segmentation và chuyển question thành các token\n",
    "def text_to_tokens(sent):\n",
    "    return word_tokenize(clean_text(sent.lower()), format='text').split()"
   ]
  },
  {
   "cell_type": "code",
   "execution_count": 5,
   "metadata": {
    "scrolled": true
   },
   "outputs": [
    {
     "data": {
      "text/plain": [
       "[['thích', 'mẫu', 'người', 'nào'],\n",
       " ['có', 'crush', 'ai', 'không'],\n",
       " ['tại_sao', 'lại', 'thích', 'bạn', 'dó'],\n",
       " ['có', 'hay', 'nói_chuyện', 'không'],\n",
       " ['bạn', 'kia', 'có', 'bắt_chuyện', 'trước', 'không'],\n",
       " ['có', 'định', 'rủ', 'bạn', 'đó', 'về', 'quê', 'dịp', 'tết', 'không'],\n",
       " ['có', 'hay', 'đi', 'chơi', 'với', 'nhau', 'không'],\n",
       " ['sở_thích', 'mày', 'sao'],\n",
       " ['thích', 'phim', 'gì'],\n",
       " ['thích', 'chơi', 'gì']]"
      ]
     },
     "execution_count": 5,
     "metadata": {},
     "output_type": "execute_result"
    }
   ],
   "source": [
    "# tách Questions thành các token\n",
    "question_tokens = [text_to_tokens(ques) for ques in questions]\n",
    "question_tokens[:10]"
   ]
  },
  {
   "cell_type": "markdown",
   "metadata": {},
   "source": [
    "# 1.a Sử dụng độ đo Bleu score"
   ]
  },
  {
   "cell_type": "code",
   "execution_count": 6,
   "metadata": {},
   "outputs": [],
   "source": [
    "def answer_with_BleuScore(question):\n",
    "    bleu_score = [sentence_bleu([ques], text_to_tokens(question), weights=(0.5, 0.5)) for ques in question_tokens]\n",
    "    predict = np.argmax(bleu_score)\n",
    "    return answers[predict]"
   ]
  },
  {
   "cell_type": "code",
   "execution_count": 13,
   "metadata": {},
   "outputs": [],
   "source": [
    "def chatbot_BleuScore():\n",
    "    print('bot: Xin chào!')\n",
    "    while True:\n",
    "        question = input('me: ')\n",
    "        if question == '':\n",
    "            print('bot: Gud Bie')\n",
    "            break\n",
    "        else: \n",
    "            print('User: ', question)\n",
    "        print('bot: ',answer_with_BleuScore(question),'\\n')"
   ]
  },
  {
   "cell_type": "code",
   "execution_count": 17,
   "metadata": {},
   "outputs": [
    {
     "name": "stdout",
     "output_type": "stream",
     "text": [
      "bot: Xin chào!\n",
      "User:  Bạn tên gì\n",
      "bot:  Nam \n",
      "\n",
      "User:  bạn học trường nào\n",
      "bot:  Tớ học đại học Tôn Đức Thắng \n",
      "\n",
      "User:  đang làm sinh viên năm mấy vậy\n",
      "bot:  Mình sinh viên năm 3 \n",
      "\n",
      "User:  có được học bổng không\n",
      "bot:  2 cái \n",
      "\n",
      "User:  có học bổng không\n",
      "bot:  có em \n",
      "\n",
      "User:  bạn thích gì nhất\n",
      "bot:  Đủ thứ hết \n",
      "\n",
      "User:  khi rảnh bạn làm gì\n",
      "bot:  chơi game và nghe nhạc \n",
      "\n",
      "bot: Gud Bie\n"
     ]
    }
   ],
   "source": [
    "chatbot_BleuScore()"
   ]
  },
  {
   "cell_type": "markdown",
   "metadata": {},
   "source": [
    "# 1.b Sử dụng Word2Vec"
   ]
  },
  {
   "cell_type": "code",
   "execution_count": 18,
   "metadata": {},
   "outputs": [
    {
     "data": {
      "text/plain": [
       "7394"
      ]
     },
     "execution_count": 18,
     "metadata": {},
     "output_type": "execute_result"
    }
   ],
   "source": [
    "len(question_tokens)"
   ]
  },
  {
   "cell_type": "code",
   "execution_count": 19,
   "metadata": {},
   "outputs": [],
   "source": [
    "vector_size = 150\n",
    "modelw2v = Word2Vec(question_tokens, vector_size=vector_size, window=10, sg=1, workers=4, min_count=2)\n",
    "\n",
    "def convert2vec(words):\n",
    "    sum = np.zeros((1, vector_size), dtype=int)[0]\n",
    "    for word in words:\n",
    "        if not (word in modelw2v.wv):\n",
    "            continue\n",
    "        vec = modelw2v.wv[word]\n",
    "        sum = sum + vec\n",
    "    return sum/len(words) # Vector của câu size (1,vector_size)\n",
    "X = [convert2vec(ques) for ques in question_tokens]"
   ]
  },
  {
   "cell_type": "markdown",
   "metadata": {},
   "source": [
    "### Độ đo Euclid"
   ]
  },
  {
   "cell_type": "code",
   "execution_count": 20,
   "metadata": {},
   "outputs": [],
   "source": [
    "def answer_with_w2v_Euclid(question):\n",
    "    input_ques = convert2vec(text_to_tokens(question))\n",
    "    q = euclidean_distances([input_ques], X)\n",
    "    predict = np.argmin(q,axis=1)\n",
    "    return answers[predict[0]]"
   ]
  },
  {
   "cell_type": "code",
   "execution_count": 22,
   "metadata": {},
   "outputs": [],
   "source": [
    "def chatbot_w2v_Euclid():\n",
    "    print('bot: Xin chào!')\n",
    "    while True:\n",
    "        question = input('me: ')\n",
    "        if question == '':\n",
    "            print('bot: bye')\n",
    "            break\n",
    "        else: \n",
    "            print('User: ', question)\n",
    "        print('bot: ',answer_with_w2v_Euclid(question),'\\n')"
   ]
  },
  {
   "cell_type": "code",
   "execution_count": 23,
   "metadata": {},
   "outputs": [
    {
     "name": "stdout",
     "output_type": "stream",
     "text": [
      "bot: Xin chào!\n",
      "User:  xin chào bạn tên gì?\n",
      "bot:  Tôi tên Hưng. Chào bạn? \n",
      "\n",
      "User:  bạn học trường nào\n",
      "bot:  Tớ học đại học Tôn Đức Thắng \n",
      "\n",
      "User:  bạn có sở thích gì không\n",
      "bot:  Đọc truyện \n",
      "\n",
      "User:  bạn có đi chơi đâu không\n",
      "bot:  đi biển \n",
      "\n",
      "User:  Bạn có rảnh không\n",
      "bot:  Mình thường đi cùng bạn ấy và nhóm bạn đại học. \n",
      "\n",
      "User:  tạm biệt\n",
      "bot:  Tạm biệt \n",
      "\n",
      "bot: bye\n"
     ]
    }
   ],
   "source": [
    "chatbot_w2v_Euclid()"
   ]
  },
  {
   "cell_type": "markdown",
   "metadata": {},
   "source": [
    "### Độ đo Cosine"
   ]
  },
  {
   "cell_type": "code",
   "execution_count": 24,
   "metadata": {},
   "outputs": [],
   "source": [
    "def answer_with_w2v_Cosine(question):\n",
    "    input_ques = convert2vec(text_to_tokens(question))\n",
    "    q = cosine_similarity([input_ques], X)\n",
    "    predict = np.argmax(q,axis=1)\n",
    "    return answers[predict[0]]"
   ]
  },
  {
   "cell_type": "code",
   "execution_count": 25,
   "metadata": {},
   "outputs": [],
   "source": [
    "def chatbot_w2v_Cosine():\n",
    "    print('bot: Xin chào!')\n",
    "    while True:\n",
    "        question = input('me: ')\n",
    "        if question == '':\n",
    "            print('bot: bye')\n",
    "            break\n",
    "        else: \n",
    "            print('User: ', question)\n",
    "        print('bot: ',answer_with_w2v_Cosine(question),'\\n')"
   ]
  },
  {
   "cell_type": "code",
   "execution_count": 28,
   "metadata": {},
   "outputs": [
    {
     "name": "stdout",
     "output_type": "stream",
     "text": [
      "bot: Xin chào!\n",
      "User:  bạn tên gì\n",
      "bot:  Nam \n",
      "\n",
      "User:  học trường nào vậy\n",
      "bot:  Trường đại học Buôn Ma Thuột \n",
      "\n",
      "User:  bạn học ngành gì\n",
      "bot:  mình học Công Nghệ Thông Tin \n",
      "\n",
      "User:  học năm mấy rồi\n",
      "bot:  đại học năm 3 \n",
      "\n",
      "User:  ngành đó khó không\n",
      "bot:  Khá là khó \n",
      "\n",
      "bot: bye\n"
     ]
    }
   ],
   "source": [
    "chatbot_w2v_Cosine()"
   ]
  }
 ],
 "metadata": {
  "interpreter": {
   "hash": "5addf786bcd861d1ce5006f23111f8cbb206731e5b61b0a5632ba9e0252558a8"
  },
  "kernelspec": {
   "display_name": "Python 3.9.1 64-bit",
   "language": "python",
   "name": "python3"
  },
  "language_info": {
   "codemirror_mode": {
    "name": "ipython",
    "version": 3
   },
   "file_extension": ".py",
   "mimetype": "text/x-python",
   "name": "python",
   "nbconvert_exporter": "python",
   "pygments_lexer": "ipython3",
   "version": "3.9.1"
  }
 },
 "nbformat": 4,
 "nbformat_minor": 2
}
